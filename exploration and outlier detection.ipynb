{
 "cells": [
  {
   "cell_type": "code",
   "execution_count": 30,
   "metadata": {},
   "outputs": [],
   "source": [
    "import numpy as np\n",
    "import pandas as pd\n",
    "import matplotlib.pyplot as plt\n",
    "\n",
    "import seaborn; \n",
    "from sklearn.linear_model import LinearRegression\n",
    "from scipy import stats\n",
    "import pylab as pl"
   ]
  },
  {
   "cell_type": "code",
   "execution_count": 31,
   "metadata": {},
   "outputs": [
    {
     "data": {
      "text/html": [
       "<div>\n",
       "<style scoped>\n",
       "    .dataframe tbody tr th:only-of-type {\n",
       "        vertical-align: middle;\n",
       "    }\n",
       "\n",
       "    .dataframe tbody tr th {\n",
       "        vertical-align: top;\n",
       "    }\n",
       "\n",
       "    .dataframe thead th {\n",
       "        text-align: right;\n",
       "    }\n",
       "</style>\n",
       "<table border=\"1\" class=\"dataframe\">\n",
       "  <thead>\n",
       "    <tr style=\"text-align: right;\">\n",
       "      <th></th>\n",
       "      <th>commodity</th>\n",
       "      <th>year</th>\n",
       "      <th>Type</th>\n",
       "      <th>msprice</th>\n",
       "      <th>msp_filter</th>\n",
       "    </tr>\n",
       "  </thead>\n",
       "  <tbody>\n",
       "    <tr>\n",
       "      <th>0</th>\n",
       "      <td>PADDY-UNHUSKED</td>\n",
       "      <td>2012</td>\n",
       "      <td>Kharif Crops</td>\n",
       "      <td>1250.0</td>\n",
       "      <td>1</td>\n",
       "    </tr>\n",
       "    <tr>\n",
       "      <th>1</th>\n",
       "      <td>RICE(PADDY-HUS)</td>\n",
       "      <td>2012</td>\n",
       "      <td>Kharif Crops</td>\n",
       "      <td>1280.0</td>\n",
       "      <td>1</td>\n",
       "    </tr>\n",
       "    <tr>\n",
       "      <th>2</th>\n",
       "      <td>Jowar_Hybrid</td>\n",
       "      <td>2012</td>\n",
       "      <td>Kharif Crops</td>\n",
       "      <td>1500.0</td>\n",
       "      <td>1</td>\n",
       "    </tr>\n",
       "    <tr>\n",
       "      <th>3</th>\n",
       "      <td>SORGUM(JAWAR)</td>\n",
       "      <td>2012</td>\n",
       "      <td>Kharif Crops</td>\n",
       "      <td>1520.0</td>\n",
       "      <td>1</td>\n",
       "    </tr>\n",
       "    <tr>\n",
       "      <th>4</th>\n",
       "      <td>BAJRI</td>\n",
       "      <td>2012</td>\n",
       "      <td>Kharif Crops</td>\n",
       "      <td>1175.0</td>\n",
       "      <td>1</td>\n",
       "    </tr>\n",
       "  </tbody>\n",
       "</table>\n",
       "</div>"
      ],
      "text/plain": [
       "         commodity  year          Type  msprice  msp_filter\n",
       "0   PADDY-UNHUSKED  2012  Kharif Crops   1250.0           1\n",
       "1  RICE(PADDY-HUS)  2012  Kharif Crops   1280.0           1\n",
       "2     Jowar_Hybrid  2012  Kharif Crops   1500.0           1\n",
       "3    SORGUM(JAWAR)  2012  Kharif Crops   1520.0           1\n",
       "4            BAJRI  2012  Kharif Crops   1175.0           1"
      ]
     },
     "execution_count": 31,
     "metadata": {},
     "output_type": "execute_result"
    }
   ],
   "source": [
    "msp_mandi = pd.read_csv('CMO_MSP_Mandi.csv')\n",
    "msp_mandi.head()"
   ]
  },
  {
   "cell_type": "code",
   "execution_count": 32,
   "metadata": {},
   "outputs": [
    {
     "data": {
      "text/plain": [
       "SUNFLOWER                 8\n",
       "Ragi_Maldandi             8\n",
       "SPLIT BLACK GRAM          8\n",
       "Copra (Ball)_Yellow       8\n",
       "WHEAT(HUSKED)             8\n",
       "SESAMUM                   8\n",
       "Toria_Yellow              8\n",
       "SPILT GERRN GRAM          8\n",
       "Copra (Milling)_Yellow    8\n",
       "COTTON                    8\n",
       "RICE(PADDY-HUS)           8\n",
       "Jute_Yellow               8\n",
       "PADDY-UNHUSKED            8\n",
       "SORGUM(JAWAR)             8\n",
       "Masur_Yellow              8\n",
       "BARLI                     8\n",
       "COCONUT                   8\n",
       "Cotton_Long Staple        8\n",
       "SAFFLOWER                 8\n",
       "NIGER-SEED                8\n",
       "PIGEON PEA (TUR)          8\n",
       "SOYABEAN                  8\n",
       "Jowar_Hybrid              8\n",
       "Gram_Yellow               8\n",
       "MAIZE                     8\n",
       "BAJRI                     8\n",
       "Soyabean_Black            8\n",
       "WHEAT(UNHUSKED)           8\n",
       "GR.NUT KERNELS            8\n",
       "MUSTARD                   8\n",
       "SUGAR-CANE                7\n",
       "SUGARCANE                 1\n",
       "Name: commodity, dtype: int64"
      ]
     },
     "execution_count": 32,
     "metadata": {},
     "output_type": "execute_result"
    }
   ],
   "source": [
    "msp_mandi.commodity.value_counts()"
   ]
  },
  {
   "cell_type": "code",
   "execution_count": 33,
   "metadata": {},
   "outputs": [
    {
     "data": {
      "text/plain": [
       "SUNFLOWER                 8\n",
       "BARLI                     8\n",
       "SPLIT BLACK GRAM          8\n",
       "Copra (Ball)_Yellow       8\n",
       "WHEAT(HUSKED)             8\n",
       "SESAMUM                   8\n",
       "Toria_Yellow              8\n",
       "SPILT GERRN GRAM          8\n",
       "Copra (Milling)_Yellow    8\n",
       "COTTON                    8\n",
       "RICE(PADDY-HUS)           8\n",
       "Jute_Yellow               8\n",
       "PADDY-UNHUSKED            8\n",
       "SORGUM(JAWAR)             8\n",
       "Masur_Yellow              8\n",
       "COCONUT                   8\n",
       "Ragi_Maldandi             8\n",
       "Cotton_Long Staple        8\n",
       "SAFFLOWER                 8\n",
       "NIGER-SEED                8\n",
       "PIGEON PEA (TUR)          8\n",
       "Sugarcane                 8\n",
       "SOYABEAN                  8\n",
       "Jowar_Hybrid              8\n",
       "Gram_Yellow               8\n",
       "MAIZE                     8\n",
       "BAJRI                     8\n",
       "Soyabean_Black            8\n",
       "WHEAT(UNHUSKED)           8\n",
       "GR.NUT KERNELS            8\n",
       "MUSTARD                   8\n",
       "Name: commodity, dtype: int64"
      ]
     },
     "execution_count": 33,
     "metadata": {},
     "output_type": "execute_result"
    }
   ],
   "source": [
    "msp_mandi['commodity'] = msp_mandi['commodity'].replace(['SUGAR-CANE', 'SUGARCANE'], 'Sugarcane')\n",
    "msp_mandi.commodity.value_counts()"
   ]
  },
  {
   "cell_type": "code",
   "execution_count": 34,
   "metadata": {},
   "outputs": [
    {
     "data": {
      "text/html": [
       "<div>\n",
       "<style scoped>\n",
       "    .dataframe tbody tr th:only-of-type {\n",
       "        vertical-align: middle;\n",
       "    }\n",
       "\n",
       "    .dataframe tbody tr th {\n",
       "        vertical-align: top;\n",
       "    }\n",
       "\n",
       "    .dataframe thead th {\n",
       "        text-align: right;\n",
       "    }\n",
       "</style>\n",
       "<table border=\"1\" class=\"dataframe\">\n",
       "  <thead>\n",
       "    <tr style=\"text-align: right;\">\n",
       "      <th></th>\n",
       "      <th>APMC</th>\n",
       "      <th>Commodity</th>\n",
       "      <th>Year</th>\n",
       "      <th>Month</th>\n",
       "      <th>arrivals_in_qtl</th>\n",
       "      <th>min_price</th>\n",
       "      <th>max_price</th>\n",
       "      <th>modal_price</th>\n",
       "      <th>date</th>\n",
       "      <th>district_name</th>\n",
       "      <th>state_name</th>\n",
       "    </tr>\n",
       "  </thead>\n",
       "  <tbody>\n",
       "    <tr>\n",
       "      <th>0</th>\n",
       "      <td>Karanja</td>\n",
       "      <td>Wheat(Husked)</td>\n",
       "      <td>2018</td>\n",
       "      <td>April</td>\n",
       "      <td>23625</td>\n",
       "      <td>1331</td>\n",
       "      <td>1778</td>\n",
       "      <td>1485</td>\n",
       "      <td>2018-04</td>\n",
       "      <td>Ankola</td>\n",
       "      <td>Maharastra</td>\n",
       "    </tr>\n",
       "    <tr>\n",
       "      <th>1</th>\n",
       "      <td>Karanja</td>\n",
       "      <td>Wheat(Husked)</td>\n",
       "      <td>2016</td>\n",
       "      <td>April</td>\n",
       "      <td>5445</td>\n",
       "      <td>1596</td>\n",
       "      <td>2138</td>\n",
       "      <td>1773</td>\n",
       "      <td>2016-04</td>\n",
       "      <td>Ankola</td>\n",
       "      <td>Maharastra</td>\n",
       "    </tr>\n",
       "    <tr>\n",
       "      <th>2</th>\n",
       "      <td>Karanja</td>\n",
       "      <td>Sorgum(Jawar)</td>\n",
       "      <td>2018</td>\n",
       "      <td>April</td>\n",
       "      <td>205</td>\n",
       "      <td>1533</td>\n",
       "      <td>1551</td>\n",
       "      <td>1539</td>\n",
       "      <td>2018-04</td>\n",
       "      <td>Ankola</td>\n",
       "      <td>Maharastra</td>\n",
       "    </tr>\n",
       "    <tr>\n",
       "      <th>3</th>\n",
       "      <td>Karanja</td>\n",
       "      <td>Sorgum(Jawar)</td>\n",
       "      <td>2016</td>\n",
       "      <td>April</td>\n",
       "      <td>150</td>\n",
       "      <td>1583</td>\n",
       "      <td>1692</td>\n",
       "      <td>1638</td>\n",
       "      <td>2016-04</td>\n",
       "      <td>Ankola</td>\n",
       "      <td>Maharastra</td>\n",
       "    </tr>\n",
       "    <tr>\n",
       "      <th>4</th>\n",
       "      <td>Karanja</td>\n",
       "      <td>Gram</td>\n",
       "      <td>2018</td>\n",
       "      <td>April</td>\n",
       "      <td>14200</td>\n",
       "      <td>3399</td>\n",
       "      <td>3960</td>\n",
       "      <td>3730</td>\n",
       "      <td>2018-04</td>\n",
       "      <td>Ankola</td>\n",
       "      <td>Maharastra</td>\n",
       "    </tr>\n",
       "  </tbody>\n",
       "</table>\n",
       "</div>"
      ],
      "text/plain": [
       "      APMC      Commodity  Year  Month  arrivals_in_qtl  min_price  max_price  \\\n",
       "0  Karanja  Wheat(Husked)  2018  April            23625       1331       1778   \n",
       "1  Karanja  Wheat(Husked)  2016  April             5445       1596       2138   \n",
       "2  Karanja  Sorgum(Jawar)  2018  April              205       1533       1551   \n",
       "3  Karanja  Sorgum(Jawar)  2016  April              150       1583       1692   \n",
       "4  Karanja           Gram  2018  April            14200       3399       3960   \n",
       "\n",
       "   modal_price     date district_name  state_name  \n",
       "0         1485  2018-04        Ankola  Maharastra  \n",
       "1         1773  2016-04        Ankola  Maharastra  \n",
       "2         1539  2018-04        Ankola  Maharastra  \n",
       "3         1638  2016-04        Ankola  Maharastra  \n",
       "4         3730  2018-04        Ankola  Maharastra  "
      ]
     },
     "execution_count": 34,
     "metadata": {},
     "output_type": "execute_result"
    }
   ],
   "source": [
    "monthly_data = pd.read_csv('Monthly_data_cmo.csv')\n",
    "monthly_data.head()"
   ]
  },
  {
   "cell_type": "code",
   "execution_count": 35,
   "metadata": {},
   "outputs": [
    {
     "name": "stdout",
     "output_type": "stream",
     "text": [
      "347\n",
      "31\n",
      "2\n"
     ]
    }
   ],
   "source": [
    "print(len(monthly_data.APMC.value_counts()))\n",
    "print(len(monthly_data.district_name.value_counts()))\n",
    "print(len(monthly_data.state_name.value_counts()))"
   ]
  },
  {
   "cell_type": "code",
   "execution_count": 36,
   "metadata": {},
   "outputs": [
    {
     "data": {
      "text/plain": [
       "<seaborn.axisgrid.FacetGrid at 0x18a16c03b70>"
      ]
     },
     "execution_count": 36,
     "metadata": {},
     "output_type": "execute_result"
    },
    {
     "data": {
      "image/png": "[encoded data removed]",
      "text/plain": [
       "<Figure size 504.75x360 with 1 Axes>"
      ]
     },
     "metadata": {
      "needs_background": "light"
     },
     "output_type": "display_data"
    }
   ],
   "source": [
    "import seaborn as sns\n",
    "sns.catplot(x='year', y='msprice', hue='commodity', kind=\"bar\", data = msp_mandi)"
   ]
  },
  {
   "cell_type": "code",
   "execution_count": 37,
   "metadata": {},
   "outputs": [
    {
     "data": {
      "text/html": [
       "<div>\n",
       "<style scoped>\n",
       "    .dataframe tbody tr th:only-of-type {\n",
       "        vertical-align: middle;\n",
       "    }\n",
       "\n",
       "    .dataframe tbody tr th {\n",
       "        vertical-align: top;\n",
       "    }\n",
       "\n",
       "    .dataframe thead th {\n",
       "        text-align: right;\n",
       "    }\n",
       "</style>\n",
       "<table border=\"1\" class=\"dataframe\">\n",
       "  <thead>\n",
       "    <tr style=\"text-align: right;\">\n",
       "      <th></th>\n",
       "      <th>APMC</th>\n",
       "      <th>Commodity</th>\n",
       "      <th>Year</th>\n",
       "      <th>Month</th>\n",
       "      <th>arrivals_in_qtl</th>\n",
       "      <th>min_price</th>\n",
       "      <th>max_price</th>\n",
       "      <th>modal_price</th>\n",
       "      <th>date</th>\n",
       "    </tr>\n",
       "  </thead>\n",
       "  <tbody>\n",
       "    <tr>\n",
       "      <th>0</th>\n",
       "      <td>Karanja</td>\n",
       "      <td>Wheat(Husked)</td>\n",
       "      <td>2018</td>\n",
       "      <td>April</td>\n",
       "      <td>23625</td>\n",
       "      <td>1331</td>\n",
       "      <td>1778</td>\n",
       "      <td>1485</td>\n",
       "      <td>2018-04</td>\n",
       "    </tr>\n",
       "    <tr>\n",
       "      <th>1</th>\n",
       "      <td>Karanja</td>\n",
       "      <td>Wheat(Husked)</td>\n",
       "      <td>2016</td>\n",
       "      <td>April</td>\n",
       "      <td>5445</td>\n",
       "      <td>1596</td>\n",
       "      <td>2138</td>\n",
       "      <td>1773</td>\n",
       "      <td>2016-04</td>\n",
       "    </tr>\n",
       "    <tr>\n",
       "      <th>2</th>\n",
       "      <td>Karanja</td>\n",
       "      <td>Sorgum(Jawar)</td>\n",
       "      <td>2018</td>\n",
       "      <td>April</td>\n",
       "      <td>205</td>\n",
       "      <td>1533</td>\n",
       "      <td>1551</td>\n",
       "      <td>1539</td>\n",
       "      <td>2018-04</td>\n",
       "    </tr>\n",
       "    <tr>\n",
       "      <th>3</th>\n",
       "      <td>Karanja</td>\n",
       "      <td>Sorgum(Jawar)</td>\n",
       "      <td>2016</td>\n",
       "      <td>April</td>\n",
       "      <td>150</td>\n",
       "      <td>1583</td>\n",
       "      <td>1692</td>\n",
       "      <td>1638</td>\n",
       "      <td>2016-04</td>\n",
       "    </tr>\n",
       "    <tr>\n",
       "      <th>4</th>\n",
       "      <td>Karanja</td>\n",
       "      <td>Gram</td>\n",
       "      <td>2018</td>\n",
       "      <td>April</td>\n",
       "      <td>14200</td>\n",
       "      <td>3399</td>\n",
       "      <td>3960</td>\n",
       "      <td>3730</td>\n",
       "      <td>2018-04</td>\n",
       "    </tr>\n",
       "  </tbody>\n",
       "</table>\n",
       "</div>"
      ],
      "text/plain": [
       "      APMC      Commodity  Year  Month  arrivals_in_qtl  min_price  max_price  \\\n",
       "0  Karanja  Wheat(Husked)  2018  April            23625       1331       1778   \n",
       "1  Karanja  Wheat(Husked)  2016  April             5445       1596       2138   \n",
       "2  Karanja  Sorgum(Jawar)  2018  April              205       1533       1551   \n",
       "3  Karanja  Sorgum(Jawar)  2016  April              150       1583       1692   \n",
       "4  Karanja           Gram  2018  April            14200       3399       3960   \n",
       "\n",
       "   modal_price     date  \n",
       "0         1485  2018-04  \n",
       "1         1773  2016-04  \n",
       "2         1539  2018-04  \n",
       "3         1638  2016-04  \n",
       "4         3730  2018-04  "
      ]
     },
     "execution_count": 37,
     "metadata": {},
     "output_type": "execute_result"
    }
   ],
   "source": [
    "monthly_data = monthly_data.iloc[:, 0:-2]\n",
    "monthly_data.head()"
   ]
  },
  {
   "cell_type": "code",
   "execution_count": 38,
   "metadata": {},
   "outputs": [
    {
     "data": {
      "text/html": [
       "<div>\n",
       "<style scoped>\n",
       "    .dataframe tbody tr th:only-of-type {\n",
       "        vertical-align: middle;\n",
       "    }\n",
       "\n",
       "    .dataframe tbody tr th {\n",
       "        vertical-align: top;\n",
       "    }\n",
       "\n",
       "    .dataframe thead th {\n",
       "        text-align: right;\n",
       "    }\n",
       "</style>\n",
       "<table border=\"1\" class=\"dataframe\">\n",
       "  <thead>\n",
       "    <tr style=\"text-align: right;\">\n",
       "      <th></th>\n",
       "      <th>APMC</th>\n",
       "      <th>Commodity</th>\n",
       "      <th>Year</th>\n",
       "      <th>Month</th>\n",
       "      <th>arrivals_in_qtl</th>\n",
       "      <th>min_price</th>\n",
       "      <th>max_price</th>\n",
       "      <th>modal_price</th>\n",
       "      <th>date</th>\n",
       "    </tr>\n",
       "    <tr>\n",
       "      <th>date</th>\n",
       "      <th></th>\n",
       "      <th></th>\n",
       "      <th></th>\n",
       "      <th></th>\n",
       "      <th></th>\n",
       "      <th></th>\n",
       "      <th></th>\n",
       "      <th></th>\n",
       "      <th></th>\n",
       "    </tr>\n",
       "  </thead>\n",
       "  <tbody>\n",
       "    <tr>\n",
       "      <th>2018-04</th>\n",
       "      <td>Karanja</td>\n",
       "      <td>Wheat(Husked)</td>\n",
       "      <td>2018</td>\n",
       "      <td>April</td>\n",
       "      <td>23625</td>\n",
       "      <td>1331</td>\n",
       "      <td>1778</td>\n",
       "      <td>1485</td>\n",
       "      <td>2018-04</td>\n",
       "    </tr>\n",
       "    <tr>\n",
       "      <th>2016-04</th>\n",
       "      <td>Karanja</td>\n",
       "      <td>Wheat(Husked)</td>\n",
       "      <td>2016</td>\n",
       "      <td>April</td>\n",
       "      <td>5445</td>\n",
       "      <td>1596</td>\n",
       "      <td>2138</td>\n",
       "      <td>1773</td>\n",
       "      <td>2016-04</td>\n",
       "    </tr>\n",
       "    <tr>\n",
       "      <th>2018-04</th>\n",
       "      <td>Karanja</td>\n",
       "      <td>Sorgum(Jawar)</td>\n",
       "      <td>2018</td>\n",
       "      <td>April</td>\n",
       "      <td>205</td>\n",
       "      <td>1533</td>\n",
       "      <td>1551</td>\n",
       "      <td>1539</td>\n",
       "      <td>2018-04</td>\n",
       "    </tr>\n",
       "    <tr>\n",
       "      <th>2016-04</th>\n",
       "      <td>Karanja</td>\n",
       "      <td>Sorgum(Jawar)</td>\n",
       "      <td>2016</td>\n",
       "      <td>April</td>\n",
       "      <td>150</td>\n",
       "      <td>1583</td>\n",
       "      <td>1692</td>\n",
       "      <td>1638</td>\n",
       "      <td>2016-04</td>\n",
       "    </tr>\n",
       "    <tr>\n",
       "      <th>2018-04</th>\n",
       "      <td>Karanja</td>\n",
       "      <td>Gram</td>\n",
       "      <td>2018</td>\n",
       "      <td>April</td>\n",
       "      <td>14200</td>\n",
       "      <td>3399</td>\n",
       "      <td>3960</td>\n",
       "      <td>3730</td>\n",
       "      <td>2018-04</td>\n",
       "    </tr>\n",
       "  </tbody>\n",
       "</table>\n",
       "</div>"
      ],
      "text/plain": [
       "            APMC      Commodity  Year  Month  arrivals_in_qtl  min_price  \\\n",
       "date                                                                       \n",
       "2018-04  Karanja  Wheat(Husked)  2018  April            23625       1331   \n",
       "2016-04  Karanja  Wheat(Husked)  2016  April             5445       1596   \n",
       "2018-04  Karanja  Sorgum(Jawar)  2018  April              205       1533   \n",
       "2016-04  Karanja  Sorgum(Jawar)  2016  April              150       1583   \n",
       "2018-04  Karanja           Gram  2018  April            14200       3399   \n",
       "\n",
       "         max_price  modal_price     date  \n",
       "date                                      \n",
       "2018-04       1778         1485  2018-04  \n",
       "2016-04       2138         1773  2016-04  \n",
       "2018-04       1551         1539  2018-04  \n",
       "2016-04       1692         1638  2016-04  \n",
       "2018-04       3960         3730  2018-04  "
      ]
     },
     "execution_count": 38,
     "metadata": {},
     "output_type": "execute_result"
    }
   ],
   "source": [
    "monthly_data.index = monthly_data.date\n",
    "monthly_data.head()"
   ]
  },
  {
   "cell_type": "code",
   "execution_count": 39,
   "metadata": {},
   "outputs": [
    {
     "data": {
      "text/html": [
       "<div>\n",
       "<style scoped>\n",
       "    .dataframe tbody tr th:only-of-type {\n",
       "        vertical-align: middle;\n",
       "    }\n",
       "\n",
       "    .dataframe tbody tr th {\n",
       "        vertical-align: top;\n",
       "    }\n",
       "\n",
       "    .dataframe thead th {\n",
       "        text-align: right;\n",
       "    }\n",
       "</style>\n",
       "<table border=\"1\" class=\"dataframe\">\n",
       "  <thead>\n",
       "    <tr style=\"text-align: right;\">\n",
       "      <th></th>\n",
       "      <th>APMC</th>\n",
       "      <th>Commodity</th>\n",
       "      <th>Year</th>\n",
       "      <th>Month</th>\n",
       "      <th>arrivals_in_qtl</th>\n",
       "      <th>min_price</th>\n",
       "      <th>max_price</th>\n",
       "      <th>modal_price</th>\n",
       "    </tr>\n",
       "    <tr>\n",
       "      <th>date</th>\n",
       "      <th></th>\n",
       "      <th></th>\n",
       "      <th></th>\n",
       "      <th></th>\n",
       "      <th></th>\n",
       "      <th></th>\n",
       "      <th></th>\n",
       "      <th></th>\n",
       "    </tr>\n",
       "  </thead>\n",
       "  <tbody>\n",
       "    <tr>\n",
       "      <th>2018-04</th>\n",
       "      <td>Karanja</td>\n",
       "      <td>Wheat(Husked)</td>\n",
       "      <td>2018</td>\n",
       "      <td>April</td>\n",
       "      <td>23625</td>\n",
       "      <td>1331</td>\n",
       "      <td>1778</td>\n",
       "      <td>1485</td>\n",
       "    </tr>\n",
       "    <tr>\n",
       "      <th>2016-04</th>\n",
       "      <td>Karanja</td>\n",
       "      <td>Wheat(Husked)</td>\n",
       "      <td>2016</td>\n",
       "      <td>April</td>\n",
       "      <td>5445</td>\n",
       "      <td>1596</td>\n",
       "      <td>2138</td>\n",
       "      <td>1773</td>\n",
       "    </tr>\n",
       "    <tr>\n",
       "      <th>2018-04</th>\n",
       "      <td>Karanja</td>\n",
       "      <td>Sorgum(Jawar)</td>\n",
       "      <td>2018</td>\n",
       "      <td>April</td>\n",
       "      <td>205</td>\n",
       "      <td>1533</td>\n",
       "      <td>1551</td>\n",
       "      <td>1539</td>\n",
       "    </tr>\n",
       "    <tr>\n",
       "      <th>2016-04</th>\n",
       "      <td>Karanja</td>\n",
       "      <td>Sorgum(Jawar)</td>\n",
       "      <td>2016</td>\n",
       "      <td>April</td>\n",
       "      <td>150</td>\n",
       "      <td>1583</td>\n",
       "      <td>1692</td>\n",
       "      <td>1638</td>\n",
       "    </tr>\n",
       "    <tr>\n",
       "      <th>2018-04</th>\n",
       "      <td>Karanja</td>\n",
       "      <td>Gram</td>\n",
       "      <td>2018</td>\n",
       "      <td>April</td>\n",
       "      <td>14200</td>\n",
       "      <td>3399</td>\n",
       "      <td>3960</td>\n",
       "      <td>3730</td>\n",
       "    </tr>\n",
       "  </tbody>\n",
       "</table>\n",
       "</div>"
      ],
      "text/plain": [
       "            APMC      Commodity  Year  Month  arrivals_in_qtl  min_price  \\\n",
       "date                                                                       \n",
       "2018-04  Karanja  Wheat(Husked)  2018  April            23625       1331   \n",
       "2016-04  Karanja  Wheat(Husked)  2016  April             5445       1596   \n",
       "2018-04  Karanja  Sorgum(Jawar)  2018  April              205       1533   \n",
       "2016-04  Karanja  Sorgum(Jawar)  2016  April              150       1583   \n",
       "2018-04  Karanja           Gram  2018  April            14200       3399   \n",
       "\n",
       "         max_price  modal_price  \n",
       "date                             \n",
       "2018-04       1778         1485  \n",
       "2016-04       2138         1773  \n",
       "2018-04       1551         1539  \n",
       "2016-04       1692         1638  \n",
       "2018-04       3960         3730  "
      ]
     },
     "execution_count": 39,
     "metadata": {},
     "output_type": "execute_result"
    }
   ],
   "source": [
    "monthly_data = monthly_data.iloc[:, 0:-1]\n",
    "monthly_data.head()"
   ]
  },
  {
   "cell_type": "code",
   "execution_count": 40,
   "metadata": {},
   "outputs": [],
   "source": [
    "monthly_data = monthly_data.sort_values(by = ['date'])"
   ]
  },
  {
   "cell_type": "code",
   "execution_count": 41,
   "metadata": {},
   "outputs": [
    {
     "data": {
      "text/html": [
       "<div>\n",
       "<style scoped>\n",
       "    .dataframe tbody tr th:only-of-type {\n",
       "        vertical-align: middle;\n",
       "    }\n",
       "\n",
       "    .dataframe tbody tr th {\n",
       "        vertical-align: top;\n",
       "    }\n",
       "\n",
       "    .dataframe thead th {\n",
       "        text-align: right;\n",
       "    }\n",
       "</style>\n",
       "<table border=\"1\" class=\"dataframe\">\n",
       "  <thead>\n",
       "    <tr style=\"text-align: right;\">\n",
       "      <th></th>\n",
       "      <th>APMC</th>\n",
       "      <th>Commodity</th>\n",
       "      <th>Year</th>\n",
       "      <th>Month</th>\n",
       "      <th>arrivals_in_qtl</th>\n",
       "      <th>min_price</th>\n",
       "      <th>max_price</th>\n",
       "      <th>modal_price</th>\n",
       "    </tr>\n",
       "    <tr>\n",
       "      <th>date</th>\n",
       "      <th></th>\n",
       "      <th></th>\n",
       "      <th></th>\n",
       "      <th></th>\n",
       "      <th></th>\n",
       "      <th></th>\n",
       "      <th></th>\n",
       "      <th></th>\n",
       "    </tr>\n",
       "  </thead>\n",
       "  <tbody>\n",
       "    <tr>\n",
       "      <th>2016-01</th>\n",
       "      <td>Mangalwedha</td>\n",
       "      <td>Pigeon Pea (Tur)</td>\n",
       "      <td>2016</td>\n",
       "      <td>January</td>\n",
       "      <td>24</td>\n",
       "      <td>7830</td>\n",
       "      <td>8630</td>\n",
       "      <td>8260</td>\n",
       "    </tr>\n",
       "    <tr>\n",
       "      <th>2016-01</th>\n",
       "      <td>Kopargaon</td>\n",
       "      <td>Onion</td>\n",
       "      <td>2016</td>\n",
       "      <td>January</td>\n",
       "      <td>30447</td>\n",
       "      <td>428</td>\n",
       "      <td>1535</td>\n",
       "      <td>1231</td>\n",
       "    </tr>\n",
       "    <tr>\n",
       "      <th>2016-01</th>\n",
       "      <td>Newasa</td>\n",
       "      <td>Bajri</td>\n",
       "      <td>2016</td>\n",
       "      <td>January</td>\n",
       "      <td>14</td>\n",
       "      <td>1392</td>\n",
       "      <td>1450</td>\n",
       "      <td>1417</td>\n",
       "    </tr>\n",
       "    <tr>\n",
       "      <th>2016-01</th>\n",
       "      <td>Newasa</td>\n",
       "      <td>Wheat(Husked)</td>\n",
       "      <td>2016</td>\n",
       "      <td>January</td>\n",
       "      <td>97</td>\n",
       "      <td>1520</td>\n",
       "      <td>1690</td>\n",
       "      <td>1615</td>\n",
       "    </tr>\n",
       "    <tr>\n",
       "      <th>2016-01</th>\n",
       "      <td>Newasa</td>\n",
       "      <td>Sorgum(Jawar)</td>\n",
       "      <td>2016</td>\n",
       "      <td>January</td>\n",
       "      <td>18</td>\n",
       "      <td>1698</td>\n",
       "      <td>1698</td>\n",
       "      <td>1698</td>\n",
       "    </tr>\n",
       "  </tbody>\n",
       "</table>\n",
       "</div>"
      ],
      "text/plain": [
       "                APMC         Commodity  Year    Month  arrivals_in_qtl  \\\n",
       "date                                                                     \n",
       "2016-01  Mangalwedha  Pigeon Pea (Tur)  2016  January               24   \n",
       "2016-01    Kopargaon             Onion  2016  January            30447   \n",
       "2016-01       Newasa             Bajri  2016  January               14   \n",
       "2016-01       Newasa     Wheat(Husked)  2016  January               97   \n",
       "2016-01       Newasa     Sorgum(Jawar)  2016  January               18   \n",
       "\n",
       "         min_price  max_price  modal_price  \n",
       "date                                        \n",
       "2016-01       7830       8630         8260  \n",
       "2016-01        428       1535         1231  \n",
       "2016-01       1392       1450         1417  \n",
       "2016-01       1520       1690         1615  \n",
       "2016-01       1698       1698         1698  "
      ]
     },
     "execution_count": 41,
     "metadata": {},
     "output_type": "execute_result"
    }
   ],
   "source": [
    "monthly_data.head()"
   ]
  },
  {
   "cell_type": "code",
   "execution_count": 42,
   "metadata": {},
   "outputs": [
    {
     "ename": "ModuleNotFoundError",
     "evalue": "No module named 'sklearn.datasets.samples_generator'",
     "output_type": "error",
     "traceback": [
      "\u001b[1;31m---------------------------------------------------------------------------\u001b[0m",
      "\u001b[1;31mModuleNotFoundError\u001b[0m                       Traceback (most recent call last)",
      "\u001b[1;32m<ipython-input-42-dc76198283a9>\u001b[0m in \u001b[0;36m<module>\u001b[1;34m\u001b[0m\n\u001b[1;32m----> 1\u001b[1;33m \u001b[1;32mfrom\u001b[0m \u001b[0msklearn\u001b[0m\u001b[1;33m.\u001b[0m\u001b[0mdatasets\u001b[0m\u001b[1;33m.\u001b[0m\u001b[0msamples_generator\u001b[0m \u001b[1;32mimport\u001b[0m \u001b[0mmake_blobs\u001b[0m\u001b[1;33m\u001b[0m\u001b[1;33m\u001b[0m\u001b[0m\n\u001b[0m\u001b[0;32m      2\u001b[0m X, y = make_blobs(n_samples=50, centers=2,\n\u001b[0;32m      3\u001b[0m                   random_state=0, cluster_std=0.60)\n\u001b[0;32m      4\u001b[0m \u001b[1;33m\u001b[0m\u001b[0m\n\u001b[0;32m      5\u001b[0m \u001b[0mxfit\u001b[0m \u001b[1;33m=\u001b[0m \u001b[0mnp\u001b[0m\u001b[1;33m.\u001b[0m\u001b[0mlinspace\u001b[0m\u001b[1;33m(\u001b[0m\u001b[1;33m-\u001b[0m\u001b[1;36m1\u001b[0m\u001b[1;33m,\u001b[0m \u001b[1;36m3.5\u001b[0m\u001b[1;33m)\u001b[0m\u001b[1;33m\u001b[0m\u001b[1;33m\u001b[0m\u001b[0m\n",
      "\u001b[1;31mModuleNotFoundError\u001b[0m: No module named 'sklearn.datasets.samples_generator'"
     ]
    }
   ],
   "source": [
    "from sklearn.datasets.samples_generator import make_blobs\n",
    "X, y = make_blobs(n_samples=50, centers=2,\n",
    "                  random_state=0, cluster_std=0.60)\n",
    "\n",
    "xfit = np.linspace(-1, 3.5)\n",
    "plt.scatter(X[:, 0], X[:, 1], c=y, s=50, cmap='spring')\n",
    "\n",
    "# Draw three lines that couple separate the data\n",
    "for m, b, d in [(1, 0.65, 0.33), (0.5, 1.6, 0.55), (-0.2, 2.9, 0.2)]:\n",
    "    yfit = m * xfit + b\n",
    "    plt.plot(xfit, yfit, '-k')\n",
    "    plt.fill_between(xfit, yfit - d, yfit + d, edgecolor='none', color='#AAAAAA', alpha=0.4)\n",
    "\n",
    "plt.xlim(-1, 3.5);"
   ]
  },
  {
   "cell_type": "code",
   "execution_count": null,
   "metadata": {},
   "outputs": [],
   "source": [
    "\n",
    "from sklearn.svm import SVC\n",
    "clf = SVC(kernel='linear')\n",
    "clf.fit(X, y)\n",
    "\n",
    "\n",
    "def plot_svc_decision_function(clf, ax=None):\n",
    "    \"\"\"Plot the decision function for a 2D SVC\"\"\"\n",
    "    if ax is None:\n",
    "        ax = plt.gca()\n",
    "    x = np.linspace(plt.xlim()[0], plt.xlim()[1], 30)\n",
    "    y = np.linspace(plt.ylim()[0], plt.ylim()[1], 30)\n",
    "    Y, X = np.meshgrid(y, x)\n",
    "    P = np.zeros_like(X)\n",
    "    for i, xi in enumerate(x):\n",
    "        for j, yj in enumerate(y):\n",
    "            P[i, j] = clf.decision_function([xi, yj])\n",
    "    # plot the margins\n",
    "    ax.contour(X, Y, P, colors='k',\n",
    "               levels=[-1, 0, 1], alpha=0.5,\n",
    "               linestyles=['--', '-', '--'])\n",
    "    \n",
    "try:\n",
    "    plt.scatter(X[:, 0], X[:, 1], c=y, s=50, cmap='spring')\n",
    "    plot_svc_decision_function(clf)\n",
    "    plt.scatter(clf.support_vectors_[:, 0], clf.support_vectors_[:, 1],\n",
    "            s=200, facecolors='none');\n",
    "except:\n",
    "    print(\"\")"
   ]
  },
  {
   "cell_type": "code",
   "execution_count": 43,
   "metadata": {},
   "outputs": [
    {
     "data": {
      "text/html": [
       "<div>\n",
       "<style scoped>\n",
       "    .dataframe tbody tr th:only-of-type {\n",
       "        vertical-align: middle;\n",
       "    }\n",
       "\n",
       "    .dataframe tbody tr th {\n",
       "        vertical-align: top;\n",
       "    }\n",
       "\n",
       "    .dataframe thead th {\n",
       "        text-align: right;\n",
       "    }\n",
       "</style>\n",
       "<table border=\"1\" class=\"dataframe\">\n",
       "  <thead>\n",
       "    <tr style=\"text-align: right;\">\n",
       "      <th></th>\n",
       "      <th>APMC</th>\n",
       "      <th>Commodity</th>\n",
       "      <th>Year</th>\n",
       "      <th>Month</th>\n",
       "      <th>arrivals_in_qtl</th>\n",
       "      <th>min_price</th>\n",
       "      <th>max_price</th>\n",
       "      <th>modal_price</th>\n",
       "    </tr>\n",
       "    <tr>\n",
       "      <th>date</th>\n",
       "      <th></th>\n",
       "      <th></th>\n",
       "      <th></th>\n",
       "      <th></th>\n",
       "      <th></th>\n",
       "      <th></th>\n",
       "      <th></th>\n",
       "      <th></th>\n",
       "    </tr>\n",
       "  </thead>\n",
       "  <tbody>\n",
       "    <tr>\n",
       "      <th>2016-01</th>\n",
       "      <td>Mysore</td>\n",
       "      <td>Cardamom</td>\n",
       "      <td>2016</td>\n",
       "      <td>January</td>\n",
       "      <td>836</td>\n",
       "      <td>41214</td>\n",
       "      <td>80000</td>\n",
       "      <td>60607</td>\n",
       "    </tr>\n",
       "    <tr>\n",
       "      <th>2016-01</th>\n",
       "      <td>Mysore</td>\n",
       "      <td>Betelnuts</td>\n",
       "      <td>2016</td>\n",
       "      <td>January</td>\n",
       "      <td>280</td>\n",
       "      <td>30167</td>\n",
       "      <td>32000</td>\n",
       "      <td>31083</td>\n",
       "    </tr>\n",
       "    <tr>\n",
       "      <th>2016-01</th>\n",
       "      <td>Mysore</td>\n",
       "      <td>Chillies(Red)</td>\n",
       "      <td>2016</td>\n",
       "      <td>January</td>\n",
       "      <td>22384</td>\n",
       "      <td>7087</td>\n",
       "      <td>15000</td>\n",
       "      <td>11043</td>\n",
       "    </tr>\n",
       "    <tr>\n",
       "      <th>2016-01</th>\n",
       "      <td>Mysore</td>\n",
       "      <td>Green Chilli</td>\n",
       "      <td>2016</td>\n",
       "      <td>January</td>\n",
       "      <td>61220</td>\n",
       "      <td>3264</td>\n",
       "      <td>3610</td>\n",
       "      <td>3450</td>\n",
       "    </tr>\n",
       "    <tr>\n",
       "      <th>2016-01</th>\n",
       "      <td>Mysore</td>\n",
       "      <td>Garlic</td>\n",
       "      <td>2016</td>\n",
       "      <td>January</td>\n",
       "      <td>27581</td>\n",
       "      <td>5931</td>\n",
       "      <td>9428</td>\n",
       "      <td>8108</td>\n",
       "    </tr>\n",
       "  </tbody>\n",
       "</table>\n",
       "</div>"
      ],
      "text/plain": [
       "           APMC      Commodity  Year    Month  arrivals_in_qtl  min_price  \\\n",
       "date                                                                        \n",
       "2016-01  Mysore       Cardamom  2016  January              836      41214   \n",
       "2016-01  Mysore      Betelnuts  2016  January              280      30167   \n",
       "2016-01  Mysore  Chillies(Red)  2016  January            22384       7087   \n",
       "2016-01  Mysore   Green Chilli  2016  January            61220       3264   \n",
       "2016-01  Mysore         Garlic  2016  January            27581       5931   \n",
       "\n",
       "         max_price  modal_price  \n",
       "date                             \n",
       "2016-01      80000        60607  \n",
       "2016-01      32000        31083  \n",
       "2016-01      15000        11043  \n",
       "2016-01       3610         3450  \n",
       "2016-01       9428         8108  "
      ]
     },
     "execution_count": 43,
     "metadata": {},
     "output_type": "execute_result"
    }
   ],
   "source": [
    "mysore = monthly_data[monthly_data.APMC == 'Mysore']\n",
    "mysore.head()"
   ]
  },
  {
   "cell_type": "code",
   "execution_count": 44,
   "metadata": {},
   "outputs": [
    {
     "data": {
      "text/plain": [
       "(1538, 8)"
      ]
     },
     "execution_count": 44,
     "metadata": {},
     "output_type": "execute_result"
    }
   ],
   "source": [
    "mysore.shape"
   ]
  },
  {
   "cell_type": "code",
   "execution_count": 45,
   "metadata": {},
   "outputs": [
    {
     "data": {
      "text/html": [
       "<div>\n",
       "<style scoped>\n",
       "    .dataframe tbody tr th:only-of-type {\n",
       "        vertical-align: middle;\n",
       "    }\n",
       "\n",
       "    .dataframe tbody tr th {\n",
       "        vertical-align: top;\n",
       "    }\n",
       "\n",
       "    .dataframe thead th {\n",
       "        text-align: right;\n",
       "    }\n",
       "</style>\n",
       "<table border=\"1\" class=\"dataframe\">\n",
       "  <thead>\n",
       "    <tr style=\"text-align: right;\">\n",
       "      <th></th>\n",
       "      <th>APMC</th>\n",
       "      <th>Commodity</th>\n",
       "      <th>Year</th>\n",
       "      <th>Month</th>\n",
       "      <th>arrivals_in_qtl</th>\n",
       "      <th>min_price</th>\n",
       "      <th>max_price</th>\n",
       "      <th>modal_price</th>\n",
       "    </tr>\n",
       "    <tr>\n",
       "      <th>date</th>\n",
       "      <th></th>\n",
       "      <th></th>\n",
       "      <th></th>\n",
       "      <th></th>\n",
       "      <th></th>\n",
       "      <th></th>\n",
       "      <th></th>\n",
       "      <th></th>\n",
       "    </tr>\n",
       "  </thead>\n",
       "  <tbody>\n",
       "    <tr>\n",
       "      <th>2016-01</th>\n",
       "      <td>Mysore</td>\n",
       "      <td>Turmeric</td>\n",
       "      <td>2016</td>\n",
       "      <td>January</td>\n",
       "      <td>1379</td>\n",
       "      <td>6000</td>\n",
       "      <td>10000</td>\n",
       "      <td>8000</td>\n",
       "    </tr>\n",
       "    <tr>\n",
       "      <th>2016-02</th>\n",
       "      <td>Mysore</td>\n",
       "      <td>Turmeric</td>\n",
       "      <td>2016</td>\n",
       "      <td>February</td>\n",
       "      <td>3700</td>\n",
       "      <td>6000</td>\n",
       "      <td>10000</td>\n",
       "      <td>8000</td>\n",
       "    </tr>\n",
       "    <tr>\n",
       "      <th>2016-03</th>\n",
       "      <td>Mysore</td>\n",
       "      <td>Turmeric</td>\n",
       "      <td>2016</td>\n",
       "      <td>March</td>\n",
       "      <td>5738</td>\n",
       "      <td>6000</td>\n",
       "      <td>10000</td>\n",
       "      <td>8000</td>\n",
       "    </tr>\n",
       "    <tr>\n",
       "      <th>2016-04</th>\n",
       "      <td>Mysore</td>\n",
       "      <td>Turmeric</td>\n",
       "      <td>2016</td>\n",
       "      <td>April</td>\n",
       "      <td>4545</td>\n",
       "      <td>6000</td>\n",
       "      <td>10000</td>\n",
       "      <td>8000</td>\n",
       "    </tr>\n",
       "    <tr>\n",
       "      <th>2016-05</th>\n",
       "      <td>Mysore</td>\n",
       "      <td>Turmeric</td>\n",
       "      <td>2016</td>\n",
       "      <td>May</td>\n",
       "      <td>4336</td>\n",
       "      <td>6000</td>\n",
       "      <td>10231</td>\n",
       "      <td>8000</td>\n",
       "    </tr>\n",
       "  </tbody>\n",
       "</table>\n",
       "</div>"
      ],
      "text/plain": [
       "           APMC Commodity  Year     Month  arrivals_in_qtl  min_price  \\\n",
       "date                                                                    \n",
       "2016-01  Mysore  Turmeric  2016   January             1379       6000   \n",
       "2016-02  Mysore  Turmeric  2016  February             3700       6000   \n",
       "2016-03  Mysore  Turmeric  2016     March             5738       6000   \n",
       "2016-04  Mysore  Turmeric  2016     April             4545       6000   \n",
       "2016-05  Mysore  Turmeric  2016       May             4336       6000   \n",
       "\n",
       "         max_price  modal_price  \n",
       "date                             \n",
       "2016-01      10000         8000  \n",
       "2016-02      10000         8000  \n",
       "2016-03      10000         8000  \n",
       "2016-04      10000         8000  \n",
       "2016-05      10231         8000  "
      ]
     },
     "execution_count": 45,
     "metadata": {},
     "output_type": "execute_result"
    }
   ],
   "source": [
    "mysore_potato = mysore[mysore.Commodity == 'Turmeric']\n",
    "mysore_potato.head()"
   ]
  },
  {
   "cell_type": "code",
   "execution_count": 46,
   "metadata": {},
   "outputs": [
    {
     "data": {
      "text/html": [
       "<div>\n",
       "<style scoped>\n",
       "    .dataframe tbody tr th:only-of-type {\n",
       "        vertical-align: middle;\n",
       "    }\n",
       "\n",
       "    .dataframe tbody tr th {\n",
       "        vertical-align: top;\n",
       "    }\n",
       "\n",
       "    .dataframe thead th {\n",
       "        text-align: right;\n",
       "    }\n",
       "</style>\n",
       "<table border=\"1\" class=\"dataframe\">\n",
       "  <thead>\n",
       "    <tr style=\"text-align: right;\">\n",
       "      <th></th>\n",
       "      <th>Year</th>\n",
       "      <th>Month</th>\n",
       "      <th>arrivals_in_qtl</th>\n",
       "      <th>min_price</th>\n",
       "      <th>max_price</th>\n",
       "      <th>modal_price</th>\n",
       "    </tr>\n",
       "    <tr>\n",
       "      <th>date</th>\n",
       "      <th></th>\n",
       "      <th></th>\n",
       "      <th></th>\n",
       "      <th></th>\n",
       "      <th></th>\n",
       "      <th></th>\n",
       "    </tr>\n",
       "  </thead>\n",
       "  <tbody>\n",
       "    <tr>\n",
       "      <th>2016-01</th>\n",
       "      <td>2016</td>\n",
       "      <td>January</td>\n",
       "      <td>1379</td>\n",
       "      <td>6000</td>\n",
       "      <td>10000</td>\n",
       "      <td>8000</td>\n",
       "    </tr>\n",
       "    <tr>\n",
       "      <th>2016-02</th>\n",
       "      <td>2016</td>\n",
       "      <td>February</td>\n",
       "      <td>3700</td>\n",
       "      <td>6000</td>\n",
       "      <td>10000</td>\n",
       "      <td>8000</td>\n",
       "    </tr>\n",
       "    <tr>\n",
       "      <th>2016-03</th>\n",
       "      <td>2016</td>\n",
       "      <td>March</td>\n",
       "      <td>5738</td>\n",
       "      <td>6000</td>\n",
       "      <td>10000</td>\n",
       "      <td>8000</td>\n",
       "    </tr>\n",
       "    <tr>\n",
       "      <th>2016-04</th>\n",
       "      <td>2016</td>\n",
       "      <td>April</td>\n",
       "      <td>4545</td>\n",
       "      <td>6000</td>\n",
       "      <td>10000</td>\n",
       "      <td>8000</td>\n",
       "    </tr>\n",
       "    <tr>\n",
       "      <th>2016-05</th>\n",
       "      <td>2016</td>\n",
       "      <td>May</td>\n",
       "      <td>4336</td>\n",
       "      <td>6000</td>\n",
       "      <td>10231</td>\n",
       "      <td>8000</td>\n",
       "    </tr>\n",
       "  </tbody>\n",
       "</table>\n",
       "</div>"
      ],
      "text/plain": [
       "         Year     Month  arrivals_in_qtl  min_price  max_price  modal_price\n",
       "date                                                                       \n",
       "2016-01  2016   January             1379       6000      10000         8000\n",
       "2016-02  2016  February             3700       6000      10000         8000\n",
       "2016-03  2016     March             5738       6000      10000         8000\n",
       "2016-04  2016     April             4545       6000      10000         8000\n",
       "2016-05  2016       May             4336       6000      10231         8000"
      ]
     },
     "execution_count": 46,
     "metadata": {},
     "output_type": "execute_result"
    }
   ],
   "source": [
    "mysore_potato = mysore_potato.drop(['APMC', 'Commodity'], 1)\n",
    "mysore_potato.head()"
   ]
  },
  {
   "cell_type": "code",
   "execution_count": 47,
   "metadata": {},
   "outputs": [
    {
     "data": {
      "text/plain": [
       "<matplotlib.legend.Legend at 0x18a19f53240>"
      ]
     },
     "execution_count": 47,
     "metadata": {},
     "output_type": "execute_result"
    },
    {
     "data": {
      "image/png": "[encoded data removed]",
      "text/plain": [
       "<Figure size 1440x360 with 1 Axes>"
      ]
     },
     "metadata": {
      "needs_background": "light"
     },
     "output_type": "display_data"
    }
   ],
   "source": [
    "plt.figure(figsize = (20, 5))\n",
    "plt.plot(mysore_potato['min_price'], label = 'min_price')\n",
    "plt.plot(mysore_potato['max_price'], label = 'max_price')\n",
    "plt.plot(mysore_potato['modal_price'], label = 'modal_price')\n",
    "plt.legend(loc = 'best')"
   ]
  },
  {
   "cell_type": "code",
   "execution_count": 48,
   "metadata": {},
   "outputs": [],
   "source": [
    "\n",
    "mysore_potato_2015 = mysore_potato[mysore_potato['Year'] == 2015]\n",
    "mysore_potato_2016 = mysore_potato[mysore_potato['Year'] == 2016]\n",
    "mysore_potato_2017 = mysore_potato[mysore_potato['Year'] == 2017]\n",
    "mysore_potato_2018 = mysore_potato[mysore_potato['Year'] == 2018]\n",
    "mysore_potato_2019 = mysore_potato[mysore_potato['Year'] == 2019]"
   ]
  },
  {
   "cell_type": "markdown",
   "metadata": {},
   "source": [
    "Now let's try to plot the quantity arrived versus price plots to see how the parameters are correlated."
   ]
  },
  {
   "cell_type": "code",
   "execution_count": 49,
   "metadata": {},
   "outputs": [
    {
     "data": {
      "image/png": "[encoded data removed]",
      "text/plain": [
       "<Figure size 432x288 with 1 Axes>"
      ]
     },
     "metadata": {
      "needs_background": "light"
     },
     "output_type": "display_data"
    }
   ],
   "source": [
    "plt.scatter(x = mysore_potato_2019['arrivals_in_qtl'], y = mysore_potato_2019['modal_price'])\n",
    "plt.show()"
   ]
  },
  {
   "cell_type": "code",
   "execution_count": 50,
   "metadata": {},
   "outputs": [
    {
     "data": {
      "image/png": "[encoded data removed]",
      "text/plain": [
       "<Figure size 432x288 with 1 Axes>"
      ]
     },
     "metadata": {
      "needs_background": "light"
     },
     "output_type": "display_data"
    }
   ],
   "source": [
    "plt.scatter(x = mysore_potato_2018['arrivals_in_qtl'], y = mysore_potato_2018['modal_price'])\n",
    "plt.show()"
   ]
  },
  {
   "cell_type": "code",
   "execution_count": 51,
   "metadata": {},
   "outputs": [
    {
     "data": {
      "image/png": "[encoded data removed]",
      "text/plain": [
       "<Figure size 432x288 with 1 Axes>"
      ]
     },
     "metadata": {
      "needs_background": "light"
     },
     "output_type": "display_data"
    }
   ],
   "source": [
    "plt.scatter(x = mysore_potato_2016['arrivals_in_qtl'], y = mysore_potato_2016['modal_price'])\n",
    "plt.show()"
   ]
  },
  {
   "cell_type": "code",
   "execution_count": 52,
   "metadata": {},
   "outputs": [],
   "source": [
    "monthly_data['Commodity'] = monthly_data['Commodity'].replace(['AMBAT CHUKA', 'Ambat Chuka'], 'Ambat chuka')"
   ]
  },
  {
   "cell_type": "code",
   "execution_count": 53,
   "metadata": {},
   "outputs": [
    {
     "data": {
      "text/plain": [
       "Gram                3972\n",
       "Wheat(Husked)       3946\n",
       "Sorgum(Jawar)       3560\n",
       "Soybean             3545\n",
       "Pigeon Pea (Tur)    3389\n",
       "                    ... \n",
       "GUVAR                  1\n",
       "LEAFY VEGETABLE        1\n",
       "PUNVAD                 1\n",
       "Punvad                 1\n",
       "Skin & Bones           1\n",
       "Name: Commodity, Length: 351, dtype: int64"
      ]
     },
     "execution_count": 53,
     "metadata": {},
     "output_type": "execute_result"
    }
   ],
   "source": [
    "monthly_data.Commodity.value_counts()"
   ]
  },
  {
   "cell_type": "code",
   "execution_count": 54,
   "metadata": {},
   "outputs": [
    {
     "data": {
      "image/png": "[encoded data removed]",
      "text/plain": [
       "<Figure size 432x288 with 1 Axes>"
      ]
     },
     "metadata": {
      "needs_background": "light"
     },
     "output_type": "display_data"
    },
    {
     "data": {
      "image/png": "[encoded data removed]",
      "text/plain": [
       "<Figure size 432x288 with 1 Axes>"
      ]
     },
     "metadata": {
      "needs_background": "light"
     },
     "output_type": "display_data"
    },
    {
     "data": {
      "image/png": "[encoded data removed]",
      "text/plain": [
       "<Figure size 432x288 with 1 Axes>"
      ]
     },
     "metadata": {
      "needs_background": "light"
     },
     "output_type": "display_data"
    }
   ],
   "source": [
    "ax1 = monthly_data.sort_values(by=['Commodity']).plot.scatter(x = 'min_price', y = 'max_price')\n",
    "ax2 = monthly_data.sort_values(by=['Commodity']).plot.scatter(x = 'min_price', y = 'modal_price')\n",
    "ax3 = monthly_data.sort_values(by=['Commodity']).plot.scatter(x = 'modal_price', y = 'max_price')"
   ]
  },
  {
   "cell_type": "code",
   "execution_count": 55,
   "metadata": {},
   "outputs": [
    {
     "data": {
      "text/plain": [
       "(62426, 8)"
      ]
     },
     "execution_count": 55,
     "metadata": {},
     "output_type": "execute_result"
    }
   ],
   "source": [
    "monthly_data_cleaned = monthly_data[(monthly_data.min_price <= 500000) & (monthly_data.max_price <= 1400000)]\n",
    "monthly_data_cleaned.shape"
   ]
  },
  {
   "cell_type": "code",
   "execution_count": 56,
   "metadata": {},
   "outputs": [
    {
     "data": {
      "text/plain": [
       "(62429, 8)"
      ]
     },
     "execution_count": 56,
     "metadata": {},
     "output_type": "execute_result"
    }
   ],
   "source": [
    "monthly_data.shape"
   ]
  },
  {
   "cell_type": "code",
   "execution_count": 57,
   "metadata": {},
   "outputs": [
    {
     "data": {
      "image/png": "[encoded data removed]",
      "text/plain": [
       "<Figure size 432x288 with 1 Axes>"
      ]
     },
     "metadata": {
      "needs_background": "light"
     },
     "output_type": "display_data"
    },
    {
     "data": {
      "image/png": "[encoded data removed]",
      "text/plain": [
       "<Figure size 432x288 with 1 Axes>"
      ]
     },
     "metadata": {
      "needs_background": "light"
     },
     "output_type": "display_data"
    },
    {
     "data": {
      "image/png": "[encoded data removed]",
      "text/plain": [
       "<Figure size 432x288 with 1 Axes>"
      ]
     },
     "metadata": {
      "needs_background": "light"
     },
     "output_type": "display_data"
    }
   ],
   "source": [
    "ax1 = monthly_data_cleaned.sort_values(by=['Commodity']).plot.scatter(x = 'min_price', y = 'max_price')\n",
    "ax2 = monthly_data_cleaned.sort_values(by=['Commodity']).plot.scatter(x = 'min_price', y = 'modal_price')\n",
    "ax3 = monthly_data_cleaned.sort_values(by=['Commodity']).plot.scatter(x = 'modal_price', y = 'max_price')"
   ]
  },
  {
   "cell_type": "code",
   "execution_count": 58,
   "metadata": {},
   "outputs": [],
   "source": [
    "monthly_data_cleaned.to_csv('monthly_data_cleaned.csv')"
   ]
  },
  {
   "cell_type": "code",
   "execution_count": 59,
   "metadata": {},
   "outputs": [
    {
     "ename": "PermissionError",
     "evalue": "[Errno 13] Permission denied: 'msp_mandi.csv'",
     "output_type": "error",
     "traceback": [
      "\u001b[1;31m---------------------------------------------------------------------------\u001b[0m",
      "\u001b[1;31mPermissionError\u001b[0m                           Traceback (most recent call last)",
      "\u001b[1;32m<ipython-input-59-6777115b2e32>\u001b[0m in \u001b[0;36m<module>\u001b[1;34m\u001b[0m\n\u001b[1;32m----> 1\u001b[1;33m \u001b[0mmsp_mandi\u001b[0m\u001b[1;33m.\u001b[0m\u001b[0mto_csv\u001b[0m\u001b[1;33m(\u001b[0m\u001b[1;34m'msp_mandi.csv'\u001b[0m\u001b[1;33m)\u001b[0m\u001b[1;33m\u001b[0m\u001b[1;33m\u001b[0m\u001b[0m\n\u001b[0m",
      "\u001b[1;32mc:\\users\\user\\appdata\\local\\programs\\python\\python37\\lib\\site-packages\\pandas\\core\\generic.py\u001b[0m in \u001b[0;36mto_csv\u001b[1;34m(self, path_or_buf, sep, na_rep, float_format, columns, header, index, index_label, mode, encoding, compression, quoting, quotechar, line_terminator, chunksize, date_format, doublequote, escapechar, decimal, errors, storage_options)\u001b[0m\n\u001b[0;32m   3398\u001b[0m             \u001b[0mdoublequote\u001b[0m\u001b[1;33m=\u001b[0m\u001b[0mdoublequote\u001b[0m\u001b[1;33m,\u001b[0m\u001b[1;33m\u001b[0m\u001b[1;33m\u001b[0m\u001b[0m\n\u001b[0;32m   3399\u001b[0m             \u001b[0mescapechar\u001b[0m\u001b[1;33m=\u001b[0m\u001b[0mescapechar\u001b[0m\u001b[1;33m,\u001b[0m\u001b[1;33m\u001b[0m\u001b[1;33m\u001b[0m\u001b[0m\n\u001b[1;32m-> 3400\u001b[1;33m             \u001b[0mstorage_options\u001b[0m\u001b[1;33m=\u001b[0m\u001b[0mstorage_options\u001b[0m\u001b[1;33m,\u001b[0m\u001b[1;33m\u001b[0m\u001b[1;33m\u001b[0m\u001b[0m\n\u001b[0m\u001b[0;32m   3401\u001b[0m         )\n\u001b[0;32m   3402\u001b[0m \u001b[1;33m\u001b[0m\u001b[0m\n",
      "\u001b[1;32mc:\\users\\user\\appdata\\local\\programs\\python\\python37\\lib\\site-packages\\pandas\\io\\formats\\format.py\u001b[0m in \u001b[0;36mto_csv\u001b[1;34m(self, path_or_buf, encoding, sep, columns, index_label, mode, compression, quoting, quotechar, line_terminator, chunksize, date_format, doublequote, escapechar, errors, storage_options)\u001b[0m\n\u001b[0;32m   1081\u001b[0m             \u001b[0mformatter\u001b[0m\u001b[1;33m=\u001b[0m\u001b[0mself\u001b[0m\u001b[1;33m.\u001b[0m\u001b[0mfmt\u001b[0m\u001b[1;33m,\u001b[0m\u001b[1;33m\u001b[0m\u001b[1;33m\u001b[0m\u001b[0m\n\u001b[0;32m   1082\u001b[0m         )\n\u001b[1;32m-> 1083\u001b[1;33m         \u001b[0mcsv_formatter\u001b[0m\u001b[1;33m.\u001b[0m\u001b[0msave\u001b[0m\u001b[1;33m(\u001b[0m\u001b[1;33m)\u001b[0m\u001b[1;33m\u001b[0m\u001b[1;33m\u001b[0m\u001b[0m\n\u001b[0m\u001b[0;32m   1084\u001b[0m \u001b[1;33m\u001b[0m\u001b[0m\n\u001b[0;32m   1085\u001b[0m         \u001b[1;32mif\u001b[0m \u001b[0mcreated_buffer\u001b[0m\u001b[1;33m:\u001b[0m\u001b[1;33m\u001b[0m\u001b[1;33m\u001b[0m\u001b[0m\n",
      "\u001b[1;32mc:\\users\\user\\appdata\\local\\programs\\python\\python37\\lib\\site-packages\\pandas\\io\\formats\\csvs.py\u001b[0m in \u001b[0;36msave\u001b[1;34m(self)\u001b[0m\n\u001b[0;32m    232\u001b[0m             \u001b[0merrors\u001b[0m\u001b[1;33m=\u001b[0m\u001b[0mself\u001b[0m\u001b[1;33m.\u001b[0m\u001b[0merrors\u001b[0m\u001b[1;33m,\u001b[0m\u001b[1;33m\u001b[0m\u001b[1;33m\u001b[0m\u001b[0m\n\u001b[0;32m    233\u001b[0m             \u001b[0mcompression\u001b[0m\u001b[1;33m=\u001b[0m\u001b[0mself\u001b[0m\u001b[1;33m.\u001b[0m\u001b[0mcompression\u001b[0m\u001b[1;33m,\u001b[0m\u001b[1;33m\u001b[0m\u001b[1;33m\u001b[0m\u001b[0m\n\u001b[1;32m--> 234\u001b[1;33m             \u001b[0mstorage_options\u001b[0m\u001b[1;33m=\u001b[0m\u001b[0mself\u001b[0m\u001b[1;33m.\u001b[0m\u001b[0mstorage_options\u001b[0m\u001b[1;33m,\u001b[0m\u001b[1;33m\u001b[0m\u001b[1;33m\u001b[0m\u001b[0m\n\u001b[0m\u001b[0;32m    235\u001b[0m         ) as handles:\n\u001b[0;32m    236\u001b[0m \u001b[1;33m\u001b[0m\u001b[0m\n",
      "\u001b[1;32mc:\\users\\user\\appdata\\local\\programs\\python\\python37\\lib\\site-packages\\pandas\\io\\common.py\u001b[0m in \u001b[0;36mget_handle\u001b[1;34m(path_or_buf, mode, encoding, compression, memory_map, is_text, errors, storage_options)\u001b[0m\n\u001b[0;32m    642\u001b[0m                 \u001b[0mencoding\u001b[0m\u001b[1;33m=\u001b[0m\u001b[0mioargs\u001b[0m\u001b[1;33m.\u001b[0m\u001b[0mencoding\u001b[0m\u001b[1;33m,\u001b[0m\u001b[1;33m\u001b[0m\u001b[1;33m\u001b[0m\u001b[0m\n\u001b[0;32m    643\u001b[0m                 \u001b[0merrors\u001b[0m\u001b[1;33m=\u001b[0m\u001b[0merrors\u001b[0m\u001b[1;33m,\u001b[0m\u001b[1;33m\u001b[0m\u001b[1;33m\u001b[0m\u001b[0m\n\u001b[1;32m--> 644\u001b[1;33m                 \u001b[0mnewline\u001b[0m\u001b[1;33m=\u001b[0m\u001b[1;34m\"\"\u001b[0m\u001b[1;33m,\u001b[0m\u001b[1;33m\u001b[0m\u001b[1;33m\u001b[0m\u001b[0m\n\u001b[0m\u001b[0;32m    645\u001b[0m             )\n\u001b[0;32m    646\u001b[0m         \u001b[1;32melse\u001b[0m\u001b[1;33m:\u001b[0m\u001b[1;33m\u001b[0m\u001b[1;33m\u001b[0m\u001b[0m\n",
      "\u001b[1;31mPermissionError\u001b[0m: [Errno 13] Permission denied: 'msp_mandi.csv'"
     ]
    }
   ],
   "source": [
    "msp_mandi.to_csv('msp_mandi.csv')"
   ]
  },
  {
   "cell_type": "code",
   "execution_count": null,
   "metadata": {},
   "outputs": [],
   "source": []
  },
  {
   "cell_type": "code",
   "execution_count": null,
   "metadata": {},
   "outputs": [],
   "source": []
  }
 ],
 "metadata": {
  "kernelspec": {
   "display_name": "Python 3",
   "language": "python",
   "name": "python3"
  },
  "language_info": {
   "codemirror_mode": {
    "name": "ipython",
    "version": 3
   },
   "file_extension": ".py",
   "mimetype": "text/x-python",
   "name": "python",
   "nbconvert_exporter": "python",
   "pygments_lexer": "ipython3",
   "version": "3.7.2"
  }
 },
 "nbformat": 4,
 "nbformat_minor": 2
}
