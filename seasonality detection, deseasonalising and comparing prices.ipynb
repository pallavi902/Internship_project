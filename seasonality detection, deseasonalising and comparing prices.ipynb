{
 "cells": [
  {
   "cell_type": "code",
   "execution_count": 1,
   "metadata": {},
   "outputs": [],
   "source": [
    "import numpy as np\n",
    "import pandas as pd\n",
    "import matplotlib.pyplot as plt"
   ]
  },
  {
   "cell_type": "code",
   "execution_count": 2,
   "metadata": {},
   "outputs": [
    {
     "name": "stdout",
     "output_type": "stream",
     "text": [
      "                            APMC         Commodity  Year     Month  \\\n",
      "date                                                                 \n",
      "2016-01-01           Mangalwedha  pigeon pea (tur)  2016   January   \n",
      "2016-01-01             Kopargaon             onion  2016   January   \n",
      "2016-01-01                Newasa             bajri  2016   January   \n",
      "2016-01-01                Newasa     wheat(husked)  2016   January   \n",
      "2016-01-01                Newasa     sorgum(jawar)  2016   January   \n",
      "...                          ...               ...   ...       ...   \n",
      "2019-12-01           Jintur-Bori              gram  2019  December   \n",
      "2019-12-01               Shirpur             onion  2019  December   \n",
      "2019-12-01  Chitradurga-Badnapur             bajri  2019  December   \n",
      "2019-12-01           Jintur-Bori     sorgum(jawar)  2019  December   \n",
      "2019-12-01           Pune-Manjri     ladies finger  2019  December   \n",
      "\n",
      "            arrivals_in_qtl  min_price  max_price  modal_price  \n",
      "date                                                            \n",
      "2016-01-01               24       7830       8630         8260  \n",
      "2016-01-01            30447        428       1535         1231  \n",
      "2016-01-01               14       1392       1450         1417  \n",
      "2016-01-01               97       1520       1690         1615  \n",
      "2016-01-01               18       1698       1698         1698  \n",
      "...                     ...        ...        ...          ...  \n",
      "2019-12-01               33       2028       2325         2256  \n",
      "2019-12-01             3105        368       1633         1267  \n",
      "2019-12-01                1       1450       1450         1450  \n",
      "2019-12-01               20       1190       1227         1212  \n",
      "2019-12-01              732       2806       5018         3912  \n",
      "\n",
      "[62426 rows x 8 columns]\n"
     ]
    }
   ],
   "source": [
    "monthly_data = pd.read_csv('monthly_data_cleaned.csv', index_col = 'date')\n",
    "monthly_data.index = pd.to_datetime(monthly_data.index)\n",
    "monthly_data.Commodity = monthly_data.Commodity.str.lower()\n",
    "monthly_data.head()\n",
    "print(monthly_data)\n"
   ]
  },
  {
   "cell_type": "code",
   "execution_count": 3,
   "metadata": {},
   "outputs": [
    {
     "data": {
      "text/html": [
       "<div>\n",
       "<style scoped>\n",
       "    .dataframe tbody tr th:only-of-type {\n",
       "        vertical-align: middle;\n",
       "    }\n",
       "\n",
       "    .dataframe tbody tr th {\n",
       "        vertical-align: top;\n",
       "    }\n",
       "\n",
       "    .dataframe thead th {\n",
       "        text-align: right;\n",
       "    }\n",
       "</style>\n",
       "<table border=\"1\" class=\"dataframe\">\n",
       "  <thead>\n",
       "    <tr style=\"text-align: right;\">\n",
       "      <th></th>\n",
       "      <th>APMC</th>\n",
       "      <th>Commodity</th>\n",
       "      <th>Year</th>\n",
       "      <th>Month</th>\n",
       "      <th>arrivals_in_qtl</th>\n",
       "      <th>min_price</th>\n",
       "      <th>max_price</th>\n",
       "      <th>modal_price</th>\n",
       "    </tr>\n",
       "    <tr>\n",
       "      <th>date</th>\n",
       "      <th></th>\n",
       "      <th></th>\n",
       "      <th></th>\n",
       "      <th></th>\n",
       "      <th></th>\n",
       "      <th></th>\n",
       "      <th></th>\n",
       "      <th></th>\n",
       "    </tr>\n",
       "  </thead>\n",
       "  <tbody>\n",
       "    <tr>\n",
       "      <th>2016-01-01</th>\n",
       "      <td>Kalburgi</td>\n",
       "      <td>pomegranate</td>\n",
       "      <td>2016</td>\n",
       "      <td>January</td>\n",
       "      <td>130</td>\n",
       "      <td>1486</td>\n",
       "      <td>7000</td>\n",
       "      <td>3429</td>\n",
       "    </tr>\n",
       "    <tr>\n",
       "      <th>2016-02-01</th>\n",
       "      <td>Kalburgi</td>\n",
       "      <td>pomegranate</td>\n",
       "      <td>2016</td>\n",
       "      <td>February</td>\n",
       "      <td>101</td>\n",
       "      <td>2000</td>\n",
       "      <td>7375</td>\n",
       "      <td>3750</td>\n",
       "    </tr>\n",
       "    <tr>\n",
       "      <th>2016-03-01</th>\n",
       "      <td>Kalburgi</td>\n",
       "      <td>pomegranate</td>\n",
       "      <td>2016</td>\n",
       "      <td>March</td>\n",
       "      <td>22</td>\n",
       "      <td>2000</td>\n",
       "      <td>6000</td>\n",
       "      <td>3500</td>\n",
       "    </tr>\n",
       "    <tr>\n",
       "      <th>2016-04-01</th>\n",
       "      <td>Kalburgi</td>\n",
       "      <td>pomegranate</td>\n",
       "      <td>2016</td>\n",
       "      <td>April</td>\n",
       "      <td>44</td>\n",
       "      <td>1125</td>\n",
       "      <td>5750</td>\n",
       "      <td>3625</td>\n",
       "    </tr>\n",
       "    <tr>\n",
       "      <th>2016-05-01</th>\n",
       "      <td>Kalburgi</td>\n",
       "      <td>pomegranate</td>\n",
       "      <td>2016</td>\n",
       "      <td>May</td>\n",
       "      <td>10</td>\n",
       "      <td>1500</td>\n",
       "      <td>10000</td>\n",
       "      <td>4500</td>\n",
       "    </tr>\n",
       "  </tbody>\n",
       "</table>\n",
       "</div>"
      ],
      "text/plain": [
       "                APMC    Commodity  Year     Month  arrivals_in_qtl  min_price  \\\n",
       "date                                                                            \n",
       "2016-01-01  Kalburgi  pomegranate  2016   January              130       1486   \n",
       "2016-02-01  Kalburgi  pomegranate  2016  February              101       2000   \n",
       "2016-03-01  Kalburgi  pomegranate  2016     March               22       2000   \n",
       "2016-04-01  Kalburgi  pomegranate  2016     April               44       1125   \n",
       "2016-05-01  Kalburgi  pomegranate  2016       May               10       1500   \n",
       "\n",
       "            max_price  modal_price  \n",
       "date                                \n",
       "2016-01-01       7000         3429  \n",
       "2016-02-01       7375         3750  \n",
       "2016-03-01       6000         3500  \n",
       "2016-04-01       5750         3625  \n",
       "2016-05-01      10000         4500  "
      ]
     },
     "execution_count": 3,
     "metadata": {},
     "output_type": "execute_result"
    }
   ],
   "source": [
    "satara_potato = monthly_data[(monthly_data.APMC == 'Kalburgi') & (monthly_data.Commodity == 'pomegranate')]\n",
    "satara_potato.head()"
   ]
  },
  {
   "cell_type": "code",
   "execution_count": 4,
   "metadata": {},
   "outputs": [
    {
     "data": {
      "text/plain": [
       "[<matplotlib.lines.Line2D at 0x1d894511a58>]"
      ]
     },
     "execution_count": 4,
     "metadata": {},
     "output_type": "execute_result"
    },
    {
     "data": {
      "image/png": "[encoded data removed]",
      "text/plain": [
       "<Figure size 1080x360 with 1 Axes>"
      ]
     },
     "metadata": {
      "needs_background": "light"
     },
     "output_type": "display_data"
    }
   ],
   "source": [
    "plt.figure(figsize = (15, 5))\n",
    "plt.plot(satara_potato.modal_price)"
   ]
  },
  {
   "cell_type": "code",
   "execution_count": 5,
   "metadata": {},
   "outputs": [
    {
     "data": {
      "text/html": [
       "<div>\n",
       "<style scoped>\n",
       "    .dataframe tbody tr th:only-of-type {\n",
       "        vertical-align: middle;\n",
       "    }\n",
       "\n",
       "    .dataframe tbody tr th {\n",
       "        vertical-align: top;\n",
       "    }\n",
       "\n",
       "    .dataframe thead th {\n",
       "        text-align: right;\n",
       "    }\n",
       "</style>\n",
       "<table border=\"1\" class=\"dataframe\">\n",
       "  <thead>\n",
       "    <tr style=\"text-align: right;\">\n",
       "      <th></th>\n",
       "      <th>Unnamed: 0</th>\n",
       "      <th>commodity</th>\n",
       "      <th>Type</th>\n",
       "      <th>msprice</th>\n",
       "      <th>msp_filter</th>\n",
       "    </tr>\n",
       "    <tr>\n",
       "      <th>year</th>\n",
       "      <th></th>\n",
       "      <th></th>\n",
       "      <th></th>\n",
       "      <th></th>\n",
       "      <th></th>\n",
       "    </tr>\n",
       "  </thead>\n",
       "  <tbody>\n",
       "    <tr>\n",
       "      <th>2012</th>\n",
       "      <td>0</td>\n",
       "      <td>paddy-unhusked</td>\n",
       "      <td>Kharif Crops</td>\n",
       "      <td>1250.0</td>\n",
       "      <td>1</td>\n",
       "    </tr>\n",
       "    <tr>\n",
       "      <th>2012</th>\n",
       "      <td>1</td>\n",
       "      <td>rice(paddy-hus)</td>\n",
       "      <td>Kharif Crops</td>\n",
       "      <td>1280.0</td>\n",
       "      <td>1</td>\n",
       "    </tr>\n",
       "    <tr>\n",
       "      <th>2012</th>\n",
       "      <td>2</td>\n",
       "      <td>jowar_hybrid</td>\n",
       "      <td>Kharif Crops</td>\n",
       "      <td>1500.0</td>\n",
       "      <td>1</td>\n",
       "    </tr>\n",
       "    <tr>\n",
       "      <th>2012</th>\n",
       "      <td>3</td>\n",
       "      <td>sorgum(jawar)</td>\n",
       "      <td>Kharif Crops</td>\n",
       "      <td>1520.0</td>\n",
       "      <td>1</td>\n",
       "    </tr>\n",
       "    <tr>\n",
       "      <th>2012</th>\n",
       "      <td>4</td>\n",
       "      <td>bajri</td>\n",
       "      <td>Kharif Crops</td>\n",
       "      <td>1175.0</td>\n",
       "      <td>1</td>\n",
       "    </tr>\n",
       "  </tbody>\n",
       "</table>\n",
       "</div>"
      ],
      "text/plain": [
       "      Unnamed: 0        commodity          Type  msprice  msp_filter\n",
       "year                                                                \n",
       "2012           0   paddy-unhusked  Kharif Crops   1250.0           1\n",
       "2012           1  rice(paddy-hus)  Kharif Crops   1280.0           1\n",
       "2012           2     jowar_hybrid  Kharif Crops   1500.0           1\n",
       "2012           3    sorgum(jawar)  Kharif Crops   1520.0           1\n",
       "2012           4            bajri  Kharif Crops   1175.0           1"
      ]
     },
     "execution_count": 5,
     "metadata": {},
     "output_type": "execute_result"
    }
   ],
   "source": [
    "msp_mandi = pd.read_csv('msp_mandi.csv', index_col = 'year')\n",
    "msp_mandi.head()"
   ]
  },
  {
   "cell_type": "code",
   "execution_count": 6,
   "metadata": {},
   "outputs": [
    {
     "data": {
      "text/html": [
       "<div>\n",
       "<style scoped>\n",
       "    .dataframe tbody tr th:only-of-type {\n",
       "        vertical-align: middle;\n",
       "    }\n",
       "\n",
       "    .dataframe tbody tr th {\n",
       "        vertical-align: top;\n",
       "    }\n",
       "\n",
       "    .dataframe thead th {\n",
       "        text-align: right;\n",
       "    }\n",
       "</style>\n",
       "<table border=\"1\" class=\"dataframe\">\n",
       "  <thead>\n",
       "    <tr style=\"text-align: right;\">\n",
       "      <th></th>\n",
       "      <th>Unnamed: 0</th>\n",
       "      <th>commodity</th>\n",
       "      <th>Type</th>\n",
       "      <th>msprice</th>\n",
       "      <th>msp_filter</th>\n",
       "    </tr>\n",
       "    <tr>\n",
       "      <th>year</th>\n",
       "      <th></th>\n",
       "      <th></th>\n",
       "      <th></th>\n",
       "      <th></th>\n",
       "      <th></th>\n",
       "    </tr>\n",
       "  </thead>\n",
       "  <tbody>\n",
       "    <tr>\n",
       "      <th>2012</th>\n",
       "      <td>0</td>\n",
       "      <td>paddy-unhusked</td>\n",
       "      <td>Kharif Crops</td>\n",
       "      <td>1250.0</td>\n",
       "      <td>1</td>\n",
       "    </tr>\n",
       "    <tr>\n",
       "      <th>2012</th>\n",
       "      <td>1</td>\n",
       "      <td>rice(paddy-hus)</td>\n",
       "      <td>Kharif Crops</td>\n",
       "      <td>1280.0</td>\n",
       "      <td>1</td>\n",
       "    </tr>\n",
       "    <tr>\n",
       "      <th>2012</th>\n",
       "      <td>2</td>\n",
       "      <td>jowar_hybrid</td>\n",
       "      <td>Kharif Crops</td>\n",
       "      <td>1500.0</td>\n",
       "      <td>1</td>\n",
       "    </tr>\n",
       "    <tr>\n",
       "      <th>2012</th>\n",
       "      <td>3</td>\n",
       "      <td>sorgum(jawar)</td>\n",
       "      <td>Kharif Crops</td>\n",
       "      <td>1520.0</td>\n",
       "      <td>1</td>\n",
       "    </tr>\n",
       "    <tr>\n",
       "      <th>2012</th>\n",
       "      <td>4</td>\n",
       "      <td>bajri</td>\n",
       "      <td>Kharif Crops</td>\n",
       "      <td>1175.0</td>\n",
       "      <td>1</td>\n",
       "    </tr>\n",
       "  </tbody>\n",
       "</table>\n",
       "</div>"
      ],
      "text/plain": [
       "      Unnamed: 0        commodity          Type  msprice  msp_filter\n",
       "year                                                                \n",
       "2012           0   paddy-unhusked  Kharif Crops   1250.0           1\n",
       "2012           1  rice(paddy-hus)  Kharif Crops   1280.0           1\n",
       "2012           2     jowar_hybrid  Kharif Crops   1500.0           1\n",
       "2012           3    sorgum(jawar)  Kharif Crops   1520.0           1\n",
       "2012           4            bajri  Kharif Crops   1175.0           1"
      ]
     },
     "execution_count": 6,
     "metadata": {},
     "output_type": "execute_result"
    }
   ],
   "source": [
    "msp_mandi.commodity = msp_mandi.commodity.str.lower()\n",
    "msp_mandi.head()"
   ]
  },
  {
   "cell_type": "markdown",
   "metadata": {},
   "source": [
    "\n",
    "Again, to better understand the data, I will take one case study and try to generalise. I'm taking the case of coconuts in Mumbai"
   ]
  },
  {
   "cell_type": "code",
   "execution_count": 7,
   "metadata": {},
   "outputs": [
    {
     "data": {
      "text/html": [
       "<div>\n",
       "<style scoped>\n",
       "    .dataframe tbody tr th:only-of-type {\n",
       "        vertical-align: middle;\n",
       "    }\n",
       "\n",
       "    .dataframe tbody tr th {\n",
       "        vertical-align: top;\n",
       "    }\n",
       "\n",
       "    .dataframe thead th {\n",
       "        text-align: right;\n",
       "    }\n",
       "</style>\n",
       "<table border=\"1\" class=\"dataframe\">\n",
       "  <thead>\n",
       "    <tr style=\"text-align: right;\">\n",
       "      <th></th>\n",
       "      <th>Unnamed: 0</th>\n",
       "      <th>commodity</th>\n",
       "      <th>Type</th>\n",
       "      <th>msprice</th>\n",
       "      <th>msp_filter</th>\n",
       "    </tr>\n",
       "    <tr>\n",
       "      <th>year</th>\n",
       "      <th></th>\n",
       "      <th></th>\n",
       "      <th></th>\n",
       "      <th></th>\n",
       "      <th></th>\n",
       "    </tr>\n",
       "  </thead>\n",
       "  <tbody>\n",
       "    <tr>\n",
       "      <th>2012-01-01</th>\n",
       "      <td>28</td>\n",
       "      <td>coconut</td>\n",
       "      <td>Other Crops</td>\n",
       "      <td>1400.0</td>\n",
       "      <td>1</td>\n",
       "    </tr>\n",
       "    <tr>\n",
       "      <th>2013-01-01</th>\n",
       "      <td>59</td>\n",
       "      <td>coconut</td>\n",
       "      <td>Other Crops</td>\n",
       "      <td>1425.0</td>\n",
       "      <td>1</td>\n",
       "    </tr>\n",
       "    <tr>\n",
       "      <th>2014-01-01</th>\n",
       "      <td>90</td>\n",
       "      <td>coconut</td>\n",
       "      <td>Other Crops</td>\n",
       "      <td>1425.0</td>\n",
       "      <td>1</td>\n",
       "    </tr>\n",
       "    <tr>\n",
       "      <th>2015-01-01</th>\n",
       "      <td>121</td>\n",
       "      <td>coconut</td>\n",
       "      <td>Other Crops</td>\n",
       "      <td>1500.0</td>\n",
       "      <td>1</td>\n",
       "    </tr>\n",
       "    <tr>\n",
       "      <th>2016-01-01</th>\n",
       "      <td>152</td>\n",
       "      <td>coconut</td>\n",
       "      <td>Other Crops</td>\n",
       "      <td>1600.0</td>\n",
       "      <td>1</td>\n",
       "    </tr>\n",
       "    <tr>\n",
       "      <th>2017-01-01</th>\n",
       "      <td>183</td>\n",
       "      <td>coconut</td>\n",
       "      <td>Other Crops</td>\n",
       "      <td>1425.0</td>\n",
       "      <td>1</td>\n",
       "    </tr>\n",
       "    <tr>\n",
       "      <th>2018-01-01</th>\n",
       "      <td>214</td>\n",
       "      <td>coconut</td>\n",
       "      <td>Other Crops</td>\n",
       "      <td>1425.0</td>\n",
       "      <td>1</td>\n",
       "    </tr>\n",
       "    <tr>\n",
       "      <th>2019-01-01</th>\n",
       "      <td>245</td>\n",
       "      <td>coconut</td>\n",
       "      <td>Other Crops</td>\n",
       "      <td>1425.0</td>\n",
       "      <td>1</td>\n",
       "    </tr>\n",
       "  </tbody>\n",
       "</table>\n",
       "</div>"
      ],
      "text/plain": [
       "            Unnamed: 0 commodity         Type  msprice  msp_filter\n",
       "year                                                              \n",
       "2012-01-01          28   coconut  Other Crops   1400.0           1\n",
       "2013-01-01          59   coconut  Other Crops   1425.0           1\n",
       "2014-01-01          90   coconut  Other Crops   1425.0           1\n",
       "2015-01-01         121   coconut  Other Crops   1500.0           1\n",
       "2016-01-01         152   coconut  Other Crops   1600.0           1\n",
       "2017-01-01         183   coconut  Other Crops   1425.0           1\n",
       "2018-01-01         214   coconut  Other Crops   1425.0           1\n",
       "2019-01-01         245   coconut  Other Crops   1425.0           1"
      ]
     },
     "execution_count": 7,
     "metadata": {},
     "output_type": "execute_result"
    }
   ],
   "source": [
    "coconut = msp_mandi[msp_mandi.commodity == 'coconut']\n",
    "coconut.index = pd.to_datetime(coconut.index, format = '%Y')\n",
    "coconut"
   ]
  },
  {
   "cell_type": "code",
   "execution_count": 8,
   "metadata": {},
   "outputs": [
    {
     "data": {
      "text/plain": [
       "[<matplotlib.lines.Line2D at 0x1d894ce0f28>]"
      ]
     },
     "execution_count": 8,
     "metadata": {},
     "output_type": "execute_result"
    },
    {
     "data": {
      "image/png": "[encoded data removed]",
      "text/plain": [
       "<Figure size 432x288 with 1 Axes>"
      ]
     },
     "metadata": {
      "needs_background": "light"
     },
     "output_type": "display_data"
    }
   ],
   "source": [
    "plt.plot(coconut.msprice)"
   ]
  },
  {
   "cell_type": "code",
   "execution_count": 9,
   "metadata": {},
   "outputs": [],
   "source": [
    "msp_mandi.to_csv('msp_mandi.csv')"
   ]
  },
  {
   "cell_type": "code",
   "execution_count": null,
   "metadata": {},
   "outputs": [],
   "source": [
    "monthly_data.to_csv('monthly_data_cleaned.csv')"
   ]
  },
  {
   "cell_type": "code",
   "execution_count": null,
   "metadata": {},
   "outputs": [],
   "source": []
  }
 ],
 "metadata": {
  "kernelspec": {
   "display_name": "Python 3",
   "language": "python",
   "name": "python3"
  },
  "language_info": {
   "codemirror_mode": {
    "name": "ipython",
    "version": 3
   },
   "file_extension": ".py",
   "mimetype": "text/x-python",
   "name": "python",
   "nbconvert_exporter": "python",
   "pygments_lexer": "ipython3",
   "version": "3.7.2"
  }
 },
 "nbformat": 4,
 "nbformat_minor": 2
}
